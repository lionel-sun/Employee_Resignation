{
 "cells": [
  {
   "cell_type": "code",
   "execution_count": 0,
   "metadata": {
    "colab": {
     "base_uri": "https://localhost:8080/",
     "height": 107
    },
    "colab_type": "code",
    "executionInfo": {
     "elapsed": 3613,
     "status": "ok",
     "timestamp": 1589134907550,
     "user": {
      "displayName": "无名氏",
      "photoUrl": "https://lh3.googleusercontent.com/a-/AOh14Gia-u54D73Stf2HHMQ4Edqb8MK6s-GZPMQNEVaA=s64",
      "userId": "11633411362684286628"
     },
     "user_tz": -120
    },
    "id": "lZ7Y0XVaReqV",
    "outputId": "badaf9d2-88b5-4b80-975d-4b561a0ea519"
   },
   "outputs": [
    {
     "name": "stdout",
     "output_type": "stream",
     "text": [
      "Drive already mounted at /content/drive; to attempt to forcibly remount, call drive.mount(\"/content/drive\", force_remount=True).\n",
      "/content/drive/My Drive/Colab_Notebooks/Employee_Resignation\n",
      "predict_lr.csv\tREADME.md  Resignation_Rate.ipynb  test.csv  train.csv\n"
     ]
    },
    {
     "name": "stderr",
     "output_type": "stream",
     "text": [
      "/usr/local/lib/python3.6/dist-packages/statsmodels/tools/_testing.py:19: FutureWarning: pandas.util.testing is deprecated. Use the functions in the public API at pandas.testing instead.\n",
      "  import pandas.util.testing as tm\n"
     ]
    }
   ],
   "source": [
    "# 重启\n",
    "# !kill -9 -1 \n",
    "# 切换到自己drive的数据存储目录\n",
    "from google.colab import drive\n",
    "drive.mount('/content/drive')\n",
    "%cd /content/drive/My\\ Drive/Colab_Notebooks/Employee_Resignation\n",
    "!ls\n",
    "# install and import package\n",
    "import pandas as pd\n",
    "import numpy as np\n",
    "from sklearn import preprocessing\n",
    "from sklearn.feature_extraction import DictVectorizer\n",
    "from sklearn.linear_model import LogisticRegression\n",
    "import matplotlib.pyplot as plt\n",
    "import seaborn as sns"
   ]
  },
  {
   "cell_type": "markdown",
   "metadata": {
    "colab_type": "text",
    "id": "3NFSwXDSWmnd"
   },
   "source": [
    "## Load data 加载数据"
   ]
  },
  {
   "cell_type": "code",
   "execution_count": 0,
   "metadata": {
    "colab": {},
    "colab_type": "code",
    "id": "ZCdsnHU5RupN"
   },
   "outputs": [],
   "source": [
    "train_data = pd.read_csv('train.csv', index_col='user_id')\n",
    "train_y = train_data['Attrition'].replace(['No', 'Yes'], [0, 1])\n",
    "train_x = train_data.drop(columns=['Attrition', 'EmployeeNumber', \n",
    "                  'Over18', 'EmployeeCount'])\n",
    "test_data = pd.read_csv('test.csv', index_col='user_id')\n",
    "test_x = test_data.drop(columns=['EmployeeNumber', 'Over18', \n",
    "                  'EmployeeCount'])"
   ]
  },
  {
   "cell_type": "markdown",
   "metadata": {
    "colab_type": "text",
    "id": "eYawAMEYYfWm"
   },
   "source": [
    "## Explore Data 数据探索"
   ]
  },
  {
   "cell_type": "code",
   "execution_count": 0,
   "metadata": {
    "colab": {},
    "colab_type": "code",
    "id": "n9NxGLgSYe3U"
   },
   "outputs": [],
   "source": [
    "pd.set_option('display.max_columns', None)  # 显示所有列\n",
    "print('查看数据信息：列名、非空个数、类型等')\n",
    "print(train_data.info())\n",
    "print('-' * 30)\n",
    "print('查看数据摘要')\n",
    "print(train_data.describe())\n",
    "print('-' * 30)\n",
    "print('查看离散数据分布')\n",
    "print(train_data.describe(include=['O']))\n",
    "print('-' * 30)\n",
    "print('查看前5条数据')\n",
    "print(train_data.head())\n",
    "print('-' * 30)\n",
    "print('查看后5条数据')\n",
    "print(train_data.tail())"
   ]
  },
  {
   "cell_type": "markdown",
   "metadata": {
    "colab_type": "text",
    "id": "dEbKObanY57a"
   },
   "source": [
    "## 数据预处理"
   ]
  },
  {
   "cell_type": "code",
   "execution_count": 0,
   "metadata": {
    "colab": {},
    "colab_type": "code",
    "id": "x3KdcI8cZAIY"
   },
   "outputs": [],
   "source": [
    "# 使用one hot编码进行特征值处理 略低于使用数只替换，0.828\n",
    "# 特征转换，字符型转成不同列\n",
    "dvec = DictVectorizer(sparse=False)\n",
    "train_x = dvec.fit_transform(train_x.to_dict(orient='record'))\n",
    "test_x = dvec.transform(test_x.to_dict(orient='record'))\n"
   ]
  },
  {
   "cell_type": "code",
   "execution_count": 0,
   "metadata": {
    "colab": {},
    "colab_type": "code",
    "id": "KGwJ05WyOjpd"
   },
   "outputs": [],
   "source": [
    "# 将离散值转换为数值类型的数据预处理 0.829\n",
    "def extract_features(df):\n",
    "  # BusinessTravel\n",
    "  businesstravel_dict = {'Non-Travel':0, 'Travel_Rarely':1, 'Travel_Frequently':2}\n",
    "  df['BusinessTravel'] = df['BusinessTravel'].map(lambda x: businesstravel_dict[x])\n",
    "  # Department\n",
    "  department_dict = {'Sales':0, 'Research & Development':1, 'Human Resources':2}\n",
    "  df['Department'] = df['Department'].map(lambda x: department_dict[x])\n",
    "  # EducationField\n",
    "  educationfield_dict = {'Life Sciences':0, 'Medical':1, 'Marketing':2, 'Technical Degree':3, 'Human Resources':4, 'Other':5}\n",
    "  df['EducationField'] = df['EducationField'].map(lambda x: educationfield_dict[x])\n",
    "  # Gender\n",
    "  gender_dict = {'Male':0, 'Female': 1}\n",
    "  df['Gender'] = df['Gender'].map(lambda x: gender_dict[x])\n",
    "  # JobRole\n",
    "  jobrole_dict = {'Sales Executive':0, \n",
    "                  'Research Scientist':1, \n",
    "                  'Laboratory Technician':2, \n",
    "                  'Manufacturing Director':3, \n",
    "                  'Healthcare Representative':4,\n",
    "                  'Manager':5, \n",
    "                  'Sales Representative':6,\n",
    "                  'Research Director':7,\n",
    "                  'Human Resources':8\n",
    "                  }\n",
    "  df['JobRole'] = df['JobRole'].map(lambda x: jobrole_dict[x])\n",
    "  # MaritalStatus\n",
    "  maritalstatus_dict = {'Single':0, 'Married':1, 'Divorced':2}\n",
    "  df['MaritalStatus'] = df['MaritalStatus'].map(lambda x: maritalstatus_dict[x])\n",
    "  # OverTime\n",
    "  overtime_dict = {'Yes':0, 'No':1}\n",
    "  df['OverTime'] = df['OverTime'].map(lambda x: overtime_dict[x])\n",
    "  return df\n",
    "train_x = extract_features(train_x)\n",
    "test_x = extract_features(test_x)"
   ]
  },
  {
   "cell_type": "code",
   "execution_count": 0,
   "metadata": {
    "colab": {},
    "colab_type": "code",
    "id": "eCukPIE6QvZI"
   },
   "outputs": [],
   "source": [
    "# 采用min-max规范化\n",
    "min_max_scaler = preprocessing.MinMaxScaler()\n",
    "train_x = min_max_scaler.fit_transform(train_x)\n",
    "test_x = min_max_scaler.transform(test_x)"
   ]
  },
  {
   "cell_type": "markdown",
   "metadata": {
    "colab_type": "text",
    "id": "4iCw1YdHQku3"
   },
   "source": [
    "## 模型训练与预测"
   ]
  },
  {
   "cell_type": "code",
   "execution_count": 0,
   "metadata": {
    "colab": {
     "base_uri": "https://localhost:8080/",
     "height": 35
    },
    "colab_type": "code",
    "executionInfo": {
     "elapsed": 1098,
     "status": "ok",
     "timestamp": 1589132892169,
     "user": {
      "displayName": "无名氏",
      "photoUrl": "https://lh3.googleusercontent.com/a-/AOh14Gia-u54D73Stf2HHMQ4Edqb8MK6s-GZPMQNEVaA=s64",
      "userId": "11633411362684286628"
     },
     "user_tz": -120
    },
    "id": "LqjC4wbyepDC",
    "outputId": "c2b056a5-7de7-4479-93d1-fc54fda0bbd7"
   },
   "outputs": [
    {
     "name": "stdout",
     "output_type": "stream",
     "text": [
      "LR准确率(基于训练集)： 0.8946\n"
     ]
    }
   ],
   "source": [
    "# 使用逻辑回归 获得predict_proba的概率 0.829\n",
    "# class_weight='balanced'\n",
    "lr = LogisticRegression()\n",
    "lr.fit(train_x,train_y)\n",
    "print('LR准确率(基于训练集)： %.4lf' % lr.score(train_x, train_y))\n",
    "predict_lr = lr.predict_proba(test_x)\n",
    "\n",
    "df1 = test_data\n",
    "df1['Attrition'] =predict_lr[:,1]\n",
    "df1 = df1['Attrition']\n",
    "df1.to_csv('predict_lr.csv')"
   ]
  },
  {
   "cell_type": "code",
   "execution_count": 9,
   "metadata": {
    "colab": {
     "base_uri": "https://localhost:8080/",
     "height": 179
    },
    "colab_type": "code",
    "executionInfo": {
     "elapsed": 606817,
     "status": "ok",
     "timestamp": 1589135836898,
     "user": {
      "displayName": "无名氏",
      "photoUrl": "https://lh3.googleusercontent.com/a-/AOh14Gia-u54D73Stf2HHMQ4Edqb8MK6s-GZPMQNEVaA=s64",
      "userId": "11633411362684286628"
     },
     "user_tz": -120
    },
    "id": "oK9nIBUBeGIW",
    "outputId": "46b787f0-f88d-44e8-a777-59f97b272e03"
   },
   "outputs": [
    {
     "name": "stdout",
     "output_type": "stream",
     "text": [
      "\tbagging_fraction: 0.95\n",
      "\tbagging_freq: 8\n",
      "\tcat_smooth: 1\n",
      "\tfeature_fraction: 0.6\n",
      "\tlambda_l1: 0\n",
      "\tlambda_l2: 40\n",
      "\tlearning_rate: 0.5\n",
      "\tmax_depth: 15\n",
      "lgb准确率(基于训练集)： 0.9898\n"
     ]
    }
   ],
   "source": [
    "# 使用LightGBM进行回归预测 0.838\n",
    "import lightgbm as lgb\n",
    "from sklearn.model_selection import GridSearchCV\n",
    "model = lgb.LGBMClassifier()\n",
    "parameters = {\n",
    "        'max_depth': [7, 15, 30],\n",
    "        'learning_rate': [0.01, 0.1, 0.5],\n",
    "        'feature_fraction': [0.6, 0.8, 0.95],\n",
    "        'bagging_fraction': [0.6, 0.8, 0.95],\n",
    "        'bagging_freq': [2, 5, 8],\n",
    "        'lambda_l1': [0, 0.1, 0.5],\n",
    "        'lambda_l2': [0, 10, 40],\n",
    "        'cat_smooth': [1, 15, 35]\n",
    "        }\n",
    "gsearch = GridSearchCV(model, param_grid=parameters, scoring='accuracy', cv=3)\n",
    "gsearch.fit(train_x, train_y)\n",
    "\n",
    "best_parameters = gsearch.best_estimator_.get_params()\n",
    "for param_name in sorted(parameters.keys()):\n",
    "    print(\"\\t%s: %r\" % (param_name, best_parameters[param_name]))\n",
    "\n",
    "print('lgb准确率(基于训练集)： %.4lf' % gsearch.score(train_x, train_y))\n",
    "# 预测\n",
    "predict_lgb = gsearch.predict_proba(test_x)\n",
    "# 输出\n",
    "df1 = test_data\n",
    "df1['Attrition'] =predict_lgb[:,1]\n",
    "df1 = df1['Attrition']\n",
    "df1.to_csv('predict_lgb.csv')"
   ]
  }
 ],
 "metadata": {
  "colab": {
   "authorship_tag": "ABX9TyMwo2rdCCWpNye8//V5K1Yi",
   "collapsed_sections": [],
   "mount_file_id": "1eKNxDvffQdAKk1dMH_vm8k7GNSul8HfK",
   "name": "Resignation_Rate.ipynb",
   "provenance": []
  },
  "kernelspec": {
   "display_name": "Python 3",
   "language": "python",
   "name": "python3"
  },
  "language_info": {
   "codemirror_mode": {
    "name": "ipython",
    "version": 3
   },
   "file_extension": ".py",
   "mimetype": "text/x-python",
   "name": "python",
   "nbconvert_exporter": "python",
   "pygments_lexer": "ipython3",
   "version": "3.7.7"
  }
 },
 "nbformat": 4,
 "nbformat_minor": 1
}
